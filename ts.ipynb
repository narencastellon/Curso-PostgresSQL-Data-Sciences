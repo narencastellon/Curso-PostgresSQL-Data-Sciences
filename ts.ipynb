{
 "cells": [
  {
   "attachments": {},
   "cell_type": "markdown",
   "metadata": {},
   "source": [
    "## 1. Rank(): \n",
    "\n",
    "La función `RANK` en SQL, es una función analítica que asigna un rango a cada fila de un conjunto de resultados en función de una columna o conjunto de columnas especificadas. La función `RANK` asigna el mismo rango a filas con valores iguales y salta al siguiente rango sin dejar espacios en caso de que haya filas con valores iguales.\n",
    "\n",
    "## 2. DENSE_RANK()\n",
    "\n",
    "La función  en SQL es una función analítica similar a `RANK()`, pero asigna rangos de manera continua sin dejar espacios, incluso cuando hay filas con valores iguales. La función `DENSE_RANK()` asigna el mismo rango a filas con valores iguales y luego salta al siguiente rango sin dejar espacios.\n",
    "\n",
    "## 3. LEAD()\n",
    "\n",
    "La función `LEAD` en SQL es una función analítica que permite acceder al valor de una columna en la siguiente fila dentro de un conjunto de resultados. La función `LEAD` toma tres argumentos: la columna de la cual deseas obtener el siguiente valor, el número de filas hacia adelante y un valor opcional para el caso de que no haya filas disponibles.\n",
    "\n",
    "## 4. LAG()\n",
    "\n",
    "La función `LAG()` en SQL es una función analítica que permite acceder al valor de una columna en la fila anterior dentro de un conjunto de resultados. La función `LAG()` toma tres argumentos: la columna de la cual deseas obtener el valor anterior, el número de filas hacia atrás y un valor opcional para el caso de que no haya filas disponibles.\n",
    "\n"
   ]
  }
 ],
 "metadata": {
  "language_info": {
   "name": "python"
  },
  "orig_nbformat": 4
 },
 "nbformat": 4,
 "nbformat_minor": 2
}
